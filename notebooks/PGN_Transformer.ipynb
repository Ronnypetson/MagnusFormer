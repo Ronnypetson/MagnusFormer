{
  "cells": [
    {
      "cell_type": "markdown",
      "metadata": {
        "id": "M1oqh0F6W3ad"
      },
      "source": [
        "# Treinando um modelo de linguagem Transformer do zero em partidas anotadas de xadrez\n"
      ]
    },
    {
      "cell_type": "markdown",
      "source": [
        "### Preparando o ambiente"
      ],
      "metadata": {
        "id": "lnL7qQsBQdNN"
      }
    },
    {
      "cell_type": "markdown",
      "source": [
        "Biblioteca python-chess (https://python-chess.readthedocs.io/en/latest/)."
      ],
      "metadata": {
        "id": "TZC8dP69QmtF"
      }
    },
    {
      "cell_type": "code",
      "execution_count": null,
      "metadata": {
        "id": "fjQeHWjAr5Ms"
      },
      "outputs": [],
      "source": [
        "!pip uninstall python-chess -y\n",
        "!pip install python-chess --upgrade"
      ]
    },
    {
      "cell_type": "markdown",
      "source": [
        "Engine de Xadrez *Stockfish* (https://stockfishchess.org/)."
      ],
      "metadata": {
        "id": "nTUbt1WAQvDc"
      }
    },
    {
      "cell_type": "code",
      "source": [
        "stockfish_path = '/usr/games/stockfish'\n",
        "!apt install stockfish"
      ],
      "metadata": {
        "id": "DdrSiiKwMDav"
      },
      "execution_count": null,
      "outputs": []
    },
    {
      "cell_type": "code",
      "execution_count": 3,
      "metadata": {
        "id": "crhuM5hJE0RA"
      },
      "outputs": [],
      "source": [
        "import chess\n",
        "import chess.pgn as pgn\n",
        "import chess.svg\n",
        "import io\n",
        "import random\n",
        "import numpy as np\n",
        "from copy import copy"
      ]
    },
    {
      "cell_type": "code",
      "source": [
        "chess.__version__"
      ],
      "metadata": {
        "colab": {
          "base_uri": "https://localhost:8080/",
          "height": 35
        },
        "id": "RLhzonuICEId",
        "outputId": "a933a2ce-8eb3-46e9-e845-9d7172ba7f3e"
      },
      "execution_count": 4,
      "outputs": [
        {
          "output_type": "execute_result",
          "data": {
            "text/plain": [
              "'1.9.2'"
            ],
            "application/vnd.google.colaboratory.intrinsic+json": {
              "type": "string"
            }
          },
          "metadata": {},
          "execution_count": 4
        }
      ]
    },
    {
      "cell_type": "markdown",
      "metadata": {
        "id": "G-kkz81OY6xH"
      },
      "source": [
        "## 1. Treinando o *tokenizer*\n",
        "\n",
        "O vocabulário de escolha do presente notebook são as possíveis anotações de lances do formato PGN. Ao todo são mais de 14700 palavras que representam lances (ex: e4, Nf3, c5, d4xe5, e8=Q, etc.).\n",
        "\n",
        "Antes é preciso instalar as bibliotecas *transformers* e *tokenizers* da Huggingface (https://huggingface.co/).\n"
      ]
    },
    {
      "cell_type": "code",
      "execution_count": null,
      "metadata": {
        "id": "5duRggBRZKvP"
      },
      "outputs": [],
      "source": [
        "!pip uninstall -y tensorflow\n",
        "!pip install git+https://github.com/huggingface/transformers\n",
        "!pip list | grep -E 'transformers|tokenizers'"
      ]
    },
    {
      "cell_type": "markdown",
      "metadata": {
        "id": "UbbnrGD1yDXD"
      },
      "source": [
        "Daí montamos a pasta do Google Drive, que guardará os arquivos de treinamento do modelo e do tokenizer, além da nossa base de partidas."
      ]
    },
    {
      "cell_type": "code",
      "execution_count": 6,
      "metadata": {
        "colab": {
          "base_uri": "https://localhost:8080/"
        },
        "id": "DvqnwBoC3hjV",
        "outputId": "10a88ef3-338a-45fc-d4d2-ca06fa8f6547"
      },
      "outputs": [
        {
          "output_type": "stream",
          "name": "stdout",
          "text": [
            "Mounted at /content/drive\n"
          ]
        }
      ],
      "source": [
        "from google.colab import drive\n",
        "drive.mount('/content/drive')"
      ]
    },
    {
      "cell_type": "markdown",
      "metadata": {
        "id": "IyANt6RfyWuT"
      },
      "source": [
        "Para treinar o tokenizer, especificaremos o nosso vocabulário a partir de um arquivo que contém todos os tokens possíveis. Passaremos a lista consistindo desses tokens como tokens especiais e passeremos um caminho de arquivo qualquer com poucas anotações de partidas apenas para preencher o argumento de treino do tokenizer."
      ]
    },
    {
      "cell_type": "code",
      "execution_count": 7,
      "metadata": {
        "colab": {
          "base_uri": "https://localhost:8080/"
        },
        "id": "IMnymRDLe0hi",
        "outputId": "7225e78a-31d8-437f-c0a5-9b4aa6a66264"
      },
      "outputs": [
        {
          "output_type": "stream",
          "name": "stdout",
          "text": [
            "CPU times: user 1.04 s, sys: 1.15 s, total: 2.19 s\n",
            "Wall time: 2.03 s\n"
          ]
        }
      ],
      "source": [
        "%%time \n",
        "from pathlib import Path\n",
        "\n",
        "from tokenizers import Tokenizer\n",
        "from tokenizers.models import Unigram\n",
        "from tokenizers.pre_tokenizers import Whitespace\n",
        "\n",
        "base_dir = '/content/drive/MyDrive/Unicamp/IA 376L - 2022.1/notebooks'\n",
        "paths = ['/content/drive/MyDrive/Unicamp/IA 376L - 2022.1/notebooks/MacKenzie.pgn_simplified.spgn',\n",
        "         '/content/drive/MyDrive/Unicamp/IA 376L - 2022.1/notebooks/twic1431g/twic1431.pgn_simplified.spgn']\n",
        "\n",
        "tokenizer = Tokenizer(Unigram())\n",
        "tokenizer.pre_tokenizer = Whitespace()\n",
        "\n",
        "with open(f'{base_dir}/complete_vocab.txt', 'r') as f:\n",
        "  vocab = f.read().split('\\n')\n",
        "\n",
        "vocab += [\"<s>\", \"<pad>\", \"</s>\", \"<unk>\", \"<mask>\"]\n",
        "# Remove +, #, and =QRBN\n",
        "\n",
        "# tokenizer.train(files=paths, vocab_size=len(vocab), min_frequency=1, special_tokens=vocab)\n",
        "from tokenizers.trainers import UnigramTrainer\n",
        "trainer = UnigramTrainer(vocab_size=len(vocab), special_tokens=vocab)\n",
        "tokenizer.train(files=paths, trainer=trainer)"
      ]
    },
    {
      "cell_type": "markdown",
      "metadata": {
        "id": "xdWYopN0zP7c"
      },
      "source": [
        "Abaixo segue um exemplo de tokenização de uma entrada representando um começo de partida de xadrez."
      ]
    },
    {
      "cell_type": "code",
      "execution_count": null,
      "metadata": {
        "id": "u3J5Je9s2qGX"
      },
      "outputs": [],
      "source": [
        "# output = tokenizer.encode(\"e4 e5 Nf3 Nf6 d4 Nxe4 Bd3 d5 dxe5\")\n",
        "# print(output.tokens)\n",
        "# print(len(vocab))"
      ]
    },
    {
      "cell_type": "markdown",
      "metadata": {
        "id": "6Ei7bqpRf1LH"
      },
      "source": [
        "Salvaremos o tokenizer no nosso diretório principal, especificado pela variável **model_dir**."
      ]
    },
    {
      "cell_type": "code",
      "execution_count": 8,
      "metadata": {
        "id": "EIS-irI0f32P"
      },
      "outputs": [],
      "source": [
        "model_dir = \"/content/drive/MyDrive/Unicamp/IA 376L - 2022.1/notebooks/pgnGPT\"\n",
        "# tokenizer.model.save(model_dir)\n",
        "# tokenizer.save(f\"{model_dir}/tokenizer.json\")"
      ]
    },
    {
      "cell_type": "code",
      "execution_count": null,
      "metadata": {
        "id": "tKVWB8WShT-z"
      },
      "outputs": [],
      "source": [
        "# # from tokenizers.implementations import ByteLevelBPETokenizer\n",
        "# # from tokenizers.implementations import Tokenizer\n",
        "# from tokenizers.processors import BertProcessing\n",
        "\n",
        "\n",
        "# # tokenizer = ByteLevelBPETokenizer(\n",
        "# #     \"./pgnBERT/vocab.json\",\n",
        "# #     \"./pgnBERT/merges.txt\",\n",
        "# # )\n",
        "# tokenizer = Tokenizer.from_file(\n",
        "#     f\"{model_dir}/tokenizer.json\"\n",
        "# )\n",
        "\n",
        "# # print(tokenizer.pad_token)\n",
        "# # tokenizer.mask_token = \"<mask>\""
      ]
    },
    {
      "cell_type": "code",
      "execution_count": null,
      "metadata": {
        "id": "hO5M3vrAhcuj"
      },
      "outputs": [],
      "source": [
        "# tokenizer._tokenizer.post_processor = BertProcessing(\n",
        "#     (\"</s>\", tokenizer.token_to_id(\"</s>\")),\n",
        "#     (\"<s>\", tokenizer.token_to_id(\"<s>\")),\n",
        "# )\n",
        "# tokenizer.enable_truncation(max_length=512)"
      ]
    },
    {
      "cell_type": "code",
      "execution_count": null,
      "metadata": {
        "id": "E3Ye27nchfzq"
      },
      "outputs": [],
      "source": [
        "# tokenizer.encode(\"e4 e5 Nf3 Nf6 d4\")\n",
        "# tokenizer.encode(\"e4 e5 Nf3 Nf6 d4\").tokens"
      ]
    },
    {
      "cell_type": "markdown",
      "metadata": {
        "id": "WQpUC_CDhnWW"
      },
      "source": [
        "## 2. Treinando o modelo de linguagem\n",
        "\n",
        "Poderemos treinar um *Masked Language Model* (MLM), tais como BERT e derivados, ou um *Causal Language Model* (CLM), tais como GPT. Pouca coisa muda quando usamos as bibliotecas da Huggingface.\n",
        "\n",
        "A seguir treinamos uma versão da arquitetura GPT-2 do zero.\n",
        "\n",
        "Primeiro, veremos se a GPU está disponível."
      ]
    },
    {
      "cell_type": "code",
      "execution_count": 9,
      "metadata": {
        "colab": {
          "base_uri": "https://localhost:8080/"
        },
        "id": "kD140sFjh0LQ",
        "outputId": "fdfcf697-c22d-4ce5-dc06-31053da09d55"
      },
      "outputs": [
        {
          "output_type": "stream",
          "name": "stdout",
          "text": [
            "Mon Jul  4 19:29:48 2022       \n",
            "+-----------------------------------------------------------------------------+\n",
            "| NVIDIA-SMI 460.32.03    Driver Version: 460.32.03    CUDA Version: 11.2     |\n",
            "|-------------------------------+----------------------+----------------------+\n",
            "| GPU  Name        Persistence-M| Bus-Id        Disp.A | Volatile Uncorr. ECC |\n",
            "| Fan  Temp  Perf  Pwr:Usage/Cap|         Memory-Usage | GPU-Util  Compute M. |\n",
            "|                               |                      |               MIG M. |\n",
            "|===============================+======================+======================|\n",
            "|   0  Tesla P100-PCIE...  Off  | 00000000:00:04.0 Off |                    0 |\n",
            "| N/A   41C    P0    28W / 250W |      0MiB / 16280MiB |      0%      Default |\n",
            "|                               |                      |                  N/A |\n",
            "+-------------------------------+----------------------+----------------------+\n",
            "                                                                               \n",
            "+-----------------------------------------------------------------------------+\n",
            "| Processes:                                                                  |\n",
            "|  GPU   GI   CI        PID   Type   Process name                  GPU Memory |\n",
            "|        ID   ID                                                   Usage      |\n",
            "|=============================================================================|\n",
            "|  No running processes found                                                 |\n",
            "+-----------------------------------------------------------------------------+\n"
          ]
        }
      ],
      "source": [
        "!nvidia-smi"
      ]
    },
    {
      "cell_type": "code",
      "execution_count": 10,
      "metadata": {
        "colab": {
          "base_uri": "https://localhost:8080/"
        },
        "id": "VNZZs-r6iKAV",
        "outputId": "9b460c58-80ff-49bd-cd86-2c6db9805b68"
      },
      "outputs": [
        {
          "output_type": "execute_result",
          "data": {
            "text/plain": [
              "True"
            ]
          },
          "metadata": {},
          "execution_count": 10
        }
      ],
      "source": [
        "import torch\n",
        "torch.cuda.is_available()"
      ]
    },
    {
      "cell_type": "markdown",
      "metadata": {
        "id": "u0qQzgrBi1OX"
      },
      "source": [
        "Agora definiremos a configuração do modelo. 15005 é o tamanho do vocabulário mais alguns tokens especiais."
      ]
    },
    {
      "cell_type": "code",
      "execution_count": 11,
      "metadata": {
        "id": "LTXXutqeDzPi"
      },
      "outputs": [],
      "source": [
        "# from transformers import RobertaConfig\n",
        "\n",
        "# RoBERTa:\n",
        "# config = RobertaConfig(\n",
        "#     vocab_size=15011,\n",
        "#     max_position_embeddings=514,\n",
        "#     num_attention_heads=12,\n",
        "#     num_hidden_layers=6,\n",
        "#     type_vocab_size=1,\n",
        "# )\n",
        "\n",
        "# GPT-2:\n",
        "from transformers import GPT2Model, GPT2Config, GPT2LMHeadModel\n",
        "\n",
        "# Initializing a GPT2 configuration\n",
        "configuration = GPT2Config(\n",
        "    vocab_size=15005\n",
        ")"
      ]
    },
    {
      "cell_type": "markdown",
      "metadata": {
        "id": "yAwQ82JiE5pi"
      },
      "source": [
        "O tokenizer treinado e salvo anteriormente será carregado na forma de um GPT2TokenizerFast."
      ]
    },
    {
      "cell_type": "code",
      "execution_count": 12,
      "metadata": {
        "colab": {
          "base_uri": "https://localhost:8080/"
        },
        "id": "4keFBUjQFOD1",
        "outputId": "fd30b76f-7900-4ab4-d642-5a715765e8c7"
      },
      "outputs": [
        {
          "output_type": "stream",
          "name": "stdout",
          "text": [
            "<mask>\n"
          ]
        }
      ],
      "source": [
        "# from transformers import RobertaTokenizerFast\n",
        "\n",
        "# RoBERTa:\n",
        "# tokenizer = RobertaTokenizerFast.from_pretrained(model_dir, max_len=512)\n",
        "\n",
        "# GPT-2:\n",
        "from transformers import GPT2TokenizerFast\n",
        "\n",
        "tokenizer = GPT2TokenizerFast.from_pretrained(model_dir, max_len=512)\n",
        "print(tokenizer.mask_token)"
      ]
    },
    {
      "cell_type": "markdown",
      "metadata": {
        "id": "V56tyn0d93p8"
      },
      "source": [
        "Da primeira vez que o código é executado, o tokenizer ainda não possui alguns dos tokens especiais (BOS, EOS, PAD, UNK e MASK). Daí é preciso descomentar e executar a célula a seguir, que adiciona os novos tokens ao tokenizer."
      ]
    },
    {
      "cell_type": "code",
      "execution_count": null,
      "metadata": {
        "id": "reK-s50lX5S4"
      },
      "outputs": [],
      "source": [
        "# tokenizer.bos_token = \"<s>\"\n",
        "# tokenizer.pad_token = \"<pad>\"\n",
        "# tokenizer.eos_token = \"</s>\"\n",
        "# tokenizer.unk_token = \"<unk>\"\n",
        "# tokenizer.mask_token = \"<mask>\"\n",
        "# tokenizer.save_pretrained(model_dir)"
      ]
    },
    {
      "cell_type": "markdown",
      "metadata": {
        "id": "6yNCw-3hFv9h"
      },
      "source": [
        "Agora inicializeremos o modelo.\n",
        "\n",
        "É importante destacar que não inicializaremos o modelo a partir de um treinado em linguagem natural, pois nosso objetivo é treinar nas partidas de xadrez em formato PGN.\n",
        "\n",
        "Na primeira execução, é preciso descomentar e executar a célula abaixo."
      ]
    },
    {
      "cell_type": "code",
      "execution_count": null,
      "metadata": {
        "id": "BAzda07E_A3P"
      },
      "outputs": [],
      "source": [
        "# from transformers import RobertaForMaskedLM\n",
        "\n",
        "# Para RoBERTa:\n",
        "# model = RobertaForMaskedLM(config=config)\n",
        "\n",
        "# Para GPT-2:\n",
        "# model = GPT2LMHeadModel(config=configuration)"
      ]
    },
    {
      "cell_type": "markdown",
      "metadata": {
        "id": "lZyA8kDK_fkX"
      },
      "source": [
        "Caso o modelo já tenha sido treinado e salvo, é possível carregá-lo:"
      ]
    },
    {
      "cell_type": "code",
      "execution_count": 13,
      "metadata": {
        "colab": {
          "base_uri": "https://localhost:8080/"
        },
        "id": "BzMqR-dzF4Ro",
        "outputId": "6e7bbac2-ad50-4267-e8ab-cd1d5b96f80a"
      },
      "outputs": [
        {
          "output_type": "stream",
          "name": "stdout",
          "text": [
            "97366272\n"
          ]
        }
      ],
      "source": [
        "# from transformers import RobertaForMaskedLM\n",
        "\n",
        "# RoBERTa:\n",
        "# model = RobertaForMaskedLM.from_pretrained(\"/content/drive/MyDrive/Unicamp/IA 376L - 2022.1/notebooks/pgnBERT\")\n",
        "\n",
        "# GPT-2:\n",
        "model = GPT2LMHeadModel.from_pretrained(model_dir)\n",
        "\n",
        "print(model.num_parameters())"
      ]
    },
    {
      "cell_type": "markdown",
      "metadata": {
        "id": "jBtUHRMliOLM"
      },
      "source": [
        "### Criando o Dataset de treino\n",
        "\n",
        "Precisaremos definir a nossa própria classe de dataset herdando da classe Dataset do PyTorch. Faremos isso por questões de escalabilidade, visto que usar um LineByLineTextDataset requer que um arquivo com todas as partidas seja carregado inteiro na memória.\n",
        "\n",
        "O nosso CustomTextDataset lê as partidas de uma forma diferente: todas as partidas são distribuídas em 2000 arquivos, de modo que em um dado momento apenas parte das partidas precisa estar na memória."
      ]
    },
    {
      "cell_type": "code",
      "source": [
        "positioning = \"a2 a7 b2 b7 c2 c7 d2 d7 e2 e7 f2 f7 g2 g7 h2 h7\"\n",
        "positioning += \" Ra1 Ra8 Nb1 Nb8 Bc1 Bc8 Qd1 Qd8 Ke1 Ke8 Bf1 Bf8 Ng1 Ng8 Rh1 Rh8\"\n",
        "pos_set = set(positioning.split(\" \"))"
      ],
      "metadata": {
        "id": "U3wYrx5Iu5zr"
      },
      "execution_count": 14,
      "outputs": []
    },
    {
      "cell_type": "code",
      "execution_count": null,
      "metadata": {
        "id": "7NnsVFKvtUcg"
      },
      "outputs": [],
      "source": [
        "from torch.utils.data import Dataset\n",
        "from transformers import PreTrainedTokenizer\n",
        "from typing import Dict\n",
        "from glob import glob\n",
        "from functools import lru_cache\n",
        "import os\n",
        "\n",
        "class CustomTextDataset(Dataset):\n",
        "  def __init__(self, tokenizer: PreTrainedTokenizer, dir_path: str, block_size: int):\n",
        "    if not os.path.isdir(dir_path):\n",
        "      raise ValueError(f\"Input dir path {dir_path} not found\")\n",
        "    self._tokenizer = tokenizer\n",
        "    self._block_size = block_size\n",
        "    file_paths = glob(dir_path + \"/*\")\n",
        "    self._dir_path = dir_path\n",
        "    self._shard_len = 1000\n",
        "    self._len = 0\n",
        "    for file_path in file_paths:\n",
        "      with open(file_path, encoding=\"utf-8\") as f:\n",
        "        self._len += sum(1 for line in f if len(line) > 2)\n",
        "    self._mem = {}\n",
        "    self._positioning = positioning\n",
        "    print(self._len)\n",
        "\n",
        "  def __len__(self):\n",
        "    return self._len\n",
        "\n",
        "  def __getitem__(self, i) -> Dict[str, torch.tensor]:\n",
        "    if i in self._mem:\n",
        "      return self._mem[i]\n",
        "\n",
        "    shard = i // self._shard_len\n",
        "    eg = i % self._shard_len\n",
        "    fname = f'{self._dir_path}/{shard}.cpgn'\n",
        "\n",
        "    lines = []\n",
        "    with open(fname, encoding=\"utf-8\") as f:\n",
        "      for idx, line in enumerate(f):\n",
        "        if len(line) > 2:\n",
        "          line = [tok for tok in line.split(' ') if len(tok) > 0 and not tok.isspace()]\n",
        "          for ch in '+#=':\n",
        "            line = [tok.split(ch)[0] for tok in line]\n",
        "          line = ' '.join(line)\n",
        "          lines.append(f\"{self._positioning} {line}\")\n",
        "\n",
        "    batch_encoding = self._tokenizer(\n",
        "        lines,\n",
        "        add_special_tokens=True,\n",
        "        truncation=True,\n",
        "        max_length=self._block_size\n",
        "    )\n",
        "    examples = batch_encoding[\"input_ids\"]\n",
        "    examples = [{\"input_ids\": torch.tensor(e, dtype=torch.long)} for e in examples]\n",
        "\n",
        "    for idx in range(len(examples)):\n",
        "      self._mem[shard * self._shard_len + idx] = examples[idx]\n",
        "\n",
        "    return examples[eg]"
      ]
    },
    {
      "cell_type": "code",
      "execution_count": null,
      "metadata": {
        "colab": {
          "base_uri": "https://localhost:8080/"
        },
        "id": "GlvP_A-THEEl",
        "outputId": "0b957ab0-6783-428b-dce5-23f47bc77356"
      },
      "outputs": [
        {
          "output_type": "stream",
          "name": "stdout",
          "text": [
            "1820744\n",
            "CPU times: user 1.59 s, sys: 488 ms, total: 2.08 s\n",
            "Wall time: 1min 2s\n"
          ]
        }
      ],
      "source": [
        "%%time\n",
        "# from transformers import LineByLineTextDataset\n",
        "\n",
        "# dataset = LineByLineTextDataset(\n",
        "#     tokenizer=tokenizer,\n",
        "#     file_path=\"/content/drive/MyDrive/Unicamp/IA 376L - 2022.1/notebooks/clean_joint_100.cpgn\",\n",
        "#     block_size=128,\n",
        "# )\n",
        "\n",
        "dataset = CustomTextDataset(\n",
        "    tokenizer=tokenizer,\n",
        "    dir_path=\"/content/drive/MyDrive/Unicamp/IA 376L - 2022.1/notebooks/cpgn\",\n",
        "    block_size=128,\n",
        ")"
      ]
    },
    {
      "cell_type": "markdown",
      "metadata": {
        "id": "hDLs73HcIHk5"
      },
      "source": [
        "O data collator será usado na criação de batches de treino."
      ]
    },
    {
      "cell_type": "code",
      "execution_count": null,
      "metadata": {
        "id": "zTgWPa9Dipk2"
      },
      "outputs": [],
      "source": [
        "from transformers import DataCollatorForLanguageModeling\n",
        "\n",
        "# RoBERTa:\n",
        "# data_collator = DataCollatorForLanguageModeling(\n",
        "#     tokenizer=tokenizer, mlm=True, mlm_probability=0.15\n",
        "# )\n",
        "\n",
        "data_collator = DataCollatorForLanguageModeling(\n",
        "    tokenizer=tokenizer, mlm=False\n",
        ")"
      ]
    },
    {
      "cell_type": "markdown",
      "metadata": {
        "id": "ri2BIQKqjfHm"
      },
      "source": [
        "Agora inicializaremos nosso objeto Trainer, que é responsável pelo treino do modelo. O objeto TrainingArguments é usado para especificar parâmetros do treino como diretório de saída, número de épocas, tamanho do batch e outros."
      ]
    },
    {
      "cell_type": "code",
      "execution_count": null,
      "metadata": {
        "colab": {
          "base_uri": "https://localhost:8080/"
        },
        "id": "YpvnFFmZJD-N",
        "outputId": "f27dbd24-3c76-4af3-a945-1efa935ba01b"
      },
      "outputs": [
        {
          "output_type": "stream",
          "name": "stderr",
          "text": [
            "Using deprecated `--per_gpu_train_batch_size` argument which will be removed in a future version. Using `--per_device_train_batch_size` is preferred.\n"
          ]
        }
      ],
      "source": [
        "from transformers import Trainer, TrainingArguments\n",
        "\n",
        "training_args = TrainingArguments(\n",
        "    output_dir=model_dir,\n",
        "    overwrite_output_dir=True,\n",
        "    num_train_epochs=10,\n",
        "    per_gpu_train_batch_size=32,\n",
        "    save_steps=5000,\n",
        "    save_total_limit=2,\n",
        "    prediction_loss_only=True,\n",
        ")\n",
        "\n",
        "trainer = Trainer(\n",
        "    model=model,\n",
        "    args=training_args,\n",
        "    data_collator=data_collator,\n",
        "    train_dataset=dataset,\n",
        ")"
      ]
    },
    {
      "cell_type": "markdown",
      "metadata": {
        "id": "o6sASa36Nf-N"
      },
      "source": [
        "Agora iniciaremos o treino propriamente dito."
      ]
    },
    {
      "cell_type": "code",
      "execution_count": null,
      "metadata": {
        "id": "VmaHZXzmkNtJ"
      },
      "outputs": [],
      "source": [
        "%%time\n",
        "trainer.train()"
      ]
    },
    {
      "cell_type": "markdown",
      "metadata": {
        "id": "_ZkooHz1-_2h"
      },
      "source": [
        "Salvaremos o modelo no nosso diretório para que possa ser carregado e usado depois, tanto para continuar o treino quanto para fazer inferência."
      ]
    },
    {
      "cell_type": "code",
      "execution_count": null,
      "metadata": {
        "colab": {
          "base_uri": "https://localhost:8080/"
        },
        "id": "QDNgPls7_l13",
        "outputId": "2d48d6e8-03ea-45fb-b9ab-44ef1b505243"
      },
      "outputs": [
        {
          "output_type": "stream",
          "name": "stderr",
          "text": [
            "Saving model checkpoint to /content/drive/MyDrive/Unicamp/IA 376L - 2022.1/notebooks/pgnGPT\n",
            "Configuration saved in /content/drive/MyDrive/Unicamp/IA 376L - 2022.1/notebooks/pgnGPT/config.json\n",
            "Model weights saved in /content/drive/MyDrive/Unicamp/IA 376L - 2022.1/notebooks/pgnGPT/pytorch_model.bin\n"
          ]
        }
      ],
      "source": [
        "trainer.save_model(model_dir)"
      ]
    },
    {
      "cell_type": "markdown",
      "metadata": {
        "id": "d0caceCy_p1-"
      },
      "source": [
        "## 3. Usando o modelo treinado"
      ]
    },
    {
      "cell_type": "markdown",
      "metadata": {
        "id": "iIQJ8ND_AEhl"
      },
      "source": [
        "Quando usamos um CLM, a parte generativa (decoder) retorna a probabilidade de cada palavra no vocabulário dadas as palavras anteriores (prompt). A seguir usaremos os escores da saída do método **generate** para criar partidas baseadas em diferentes estratégias de amostragem. A mais simples delas é a *greedy*, onde cada novo token é gerado e concatenado aos últimos. Outra forma de amostrar sequências de tokens consiste em pegar os próximos *k* tokens com maior probabilidade conjunta (dados os anteriores). O caso onde *k = 1* equivale ao greedy.\n",
        "\n",
        "Primeiro instalaremos a biblioteca python-chess, que será útil para validar as saídas do modelo, de modo que apenas partidas válidas sejam geradas."
      ]
    },
    {
      "cell_type": "markdown",
      "metadata": {
        "id": "TVIgcNfAFGRv"
      },
      "source": [
        "Agora definiremos alguns métodos auxiliares e métodos para as diferentes técnicas de amostragem citadas."
      ]
    },
    {
      "cell_type": "code",
      "execution_count": 15,
      "metadata": {
        "id": "X53s9vxBi_lj"
      },
      "outputs": [],
      "source": [
        "game_end = ['1-0', '0-1', '1/2-1/2']\n",
        "\n",
        "def is_legal(board, move):\n",
        "  try:\n",
        "    board.push_san(move)\n",
        "    board.pop()\n",
        "  except ValueError as e:\n",
        "    return False\n",
        "  return True\n",
        "\n",
        "def gen_next_greedy(prompt, prob_mass=0.7, random_seed=0, limit=None):\n",
        "  prompt = f\"{positioning} {prompt}\"\n",
        "  input_ids = tokenizer(prompt, return_tensors=\"pt\")\n",
        "  input_ids = input_ids.input_ids\n",
        "  input_ids = input_ids.to(model.device)\n",
        "  outputs = model.generate(\n",
        "      input_ids,\n",
        "      do_sample=False,\n",
        "      max_length=len(input_ids[0]) + 1,\n",
        "      output_scores=True,\n",
        "      return_dict_in_generate=True,\n",
        "      pad_token_id=tokenizer.eos_token_id\n",
        "  )\n",
        "  scores = outputs.scores[0].detach().cpu().numpy()[0]\n",
        "  prob_scores = np.exp(scores) / sum(np.exp(scores))\n",
        "  next_ids = np.argsort(scores)\n",
        "  if limit:\n",
        "    next_ids = next_ids[-limit:]\n",
        "  acc_prob = 0.0\n",
        "  top_ids = []\n",
        "  for idx in range(len(next_ids) - 1, -1, -1):\n",
        "    if acc_prob >= prob_mass and len(top_ids) > 0:\n",
        "      break\n",
        "    acc_prob += prob_scores[next_ids[idx]]\n",
        "    top_ids.append(next_ids[idx])\n",
        "  top_scores = prob_scores[top_ids]\n",
        "  outputs = tokenizer.batch_decode(torch.tensor([top_ids], device=model.device))\n",
        "  outputs = outputs[0]\n",
        "  ans = {'tokens': outputs.split(' '), 'probabilities': top_scores}\n",
        "  paired = {}\n",
        "  for tok, prob in zip(ans['tokens'], ans['probabilities']):\n",
        "    paired[tok] = prob\n",
        "  ans['paired'] = paired\n",
        "  return ans\n",
        "\n",
        "def _generate_best_next(\n",
        "    board,\n",
        "    prompt,\n",
        "    k=4,\n",
        "    prob_mass=0.7,\n",
        "    stochastic=False,\n",
        "  ):\n",
        "  moves = gen_next_greedy(prompt, prob_mass, limit=10)\n",
        "  moves, probs, pairs = moves['tokens'], moves['probabilities'], moves['paired']\n",
        "  if k <= 1:\n",
        "    idx = 0\n",
        "    legal_moves = []\n",
        "    while idx < len(moves):\n",
        "      if is_legal(board, moves[idx]):\n",
        "        legal_moves.append((probs[idx], moves[idx]))\n",
        "      if len(legal_moves) == 2:\n",
        "        break\n",
        "      idx += 1\n",
        "    if len(legal_moves) > 0:\n",
        "      if stochastic and (np.random.randint(0, 2) == 1):\n",
        "        move_idx = np.random.choice(list(range(len(legal_moves[:2]))), 1)[0]\n",
        "        move = legal_moves[move_idx]\n",
        "      else:\n",
        "        move = legal_moves[0]\n",
        "      prob, move = move\n",
        "      return np.log(prob), move\n",
        "    else:\n",
        "      return float('-inf'), ''\n",
        "  max_score = float('-inf')\n",
        "  max_moves = None\n",
        "  for move in board.legal_moves:\n",
        "    move = board.san(move)\n",
        "    if move in pairs:\n",
        "      prob = pairs[move]\n",
        "      board.push_san(move)\n",
        "      sub_score, sub_moves = _generate_best_next(\n",
        "          board,\n",
        "          prompt + ' ' + move,\n",
        "          k - 1,\n",
        "          prob_mass,\n",
        "          stochastic\n",
        "      )\n",
        "      board.pop()\n",
        "      curr_score = np.log(prob) + sub_score\n",
        "      if curr_score > max_score:\n",
        "        max_score = curr_score\n",
        "        if len(sub_moves) > 0:\n",
        "          max_moves = move + ' ' + sub_moves\n",
        "        else:\n",
        "          max_moves = move\n",
        "  if max_moves is None:\n",
        "    return float('-inf'), ''\n",
        "  return max_score, max_moves"
      ]
    },
    {
      "cell_type": "markdown",
      "metadata": {
        "id": "vWTEdvmrFRND"
      },
      "source": [
        "No método **generate_game**, o argumento *start* informa quais os lances jogados inicialmente e deve conter pelo menos um lance. *lookahead* controla o número de lances da profundidade na amostragem. *stochastic* informa se a geração deve ser aleatória ou determinística."
      ]
    },
    {
      "cell_type": "code",
      "execution_count": 16,
      "metadata": {
        "id": "S9Scn5hzxTX5"
      },
      "outputs": [],
      "source": [
        "def generate_game(\n",
        "    start='e4',\n",
        "    lookahead=1,\n",
        "    stochastic=False,\n",
        "  ):\n",
        "  max_moves = 100\n",
        "  num_iter = max_moves // lookahead\n",
        "  print(start, end=' ')\n",
        "  board = chess.Board()\n",
        "  for move in start.split(' '):\n",
        "    if len(move) > 0:\n",
        "      board.push_san(move)\n",
        "  for _ in range(num_iter):\n",
        "    new_moves = _generate_best_next(\n",
        "        board,\n",
        "        start,\n",
        "        k=lookahead,\n",
        "        prob_mass=0.99,\n",
        "        stochastic=stochastic\n",
        "    )[1]\n",
        "    if len(new_moves) == 0:\n",
        "      break\n",
        "    for move in new_moves.split(' '):\n",
        "      if len(move) > 0:\n",
        "        board.push_san(move)\n",
        "    print(new_moves, end=' ')\n",
        "    start += ' ' + new_moves\n",
        "  print()\n",
        "  return start"
      ]
    },
    {
      "cell_type": "code",
      "source": [
        "generate_game(lookahead=3, stochastic=True)"
      ],
      "metadata": {
        "colab": {
          "base_uri": "https://localhost:8080/",
          "height": 90
        },
        "id": "HbVThIwr62dj",
        "outputId": "15eec1fb-a2c1-44da-ab77-e54d061b5dcb"
      },
      "execution_count": null,
      "outputs": [
        {
          "output_type": "stream",
          "name": "stdout",
          "text": [
            "e4 c5 Nf3 d6 d4 cxd4 Qxd4 Nc6 Bb5 Bd7 Bxc6 Bxc6 c4 Nf6 Nc3 g6 O-O Bg7 h3 O-O Qd3 Nd7 Be3 Nc5 Qc2 a5 Rad1 a4 Nd4 Qa5 Nxc6 bxc6 Bd4 Bxd4 Rxd4 Rfb8 Rfd1 Rb4 Qe2 Rab8 e5 dxe5 Qxe5 Qb6 Nxa4 Nxa4 Qxe7 Rxb2 Rd8 Kg7 Rxb8 Qxb8 Rd7 Kg8 Rd8 Kg7 Rd7 Kg8 Qf6 Qe8 Rd8 Rb8 Rxb8 Qxb8 Qxc6 Qa7 Qc8 Kg7 c5 h5 c6 h4 c7 Qb6 Qd7 Kf6 Qc8 Kg7 Qd7 Kf6 Qd2 Kg7 Qd7 Kf6 Qd8 Kg7 Qd7 Kf6 Qd2 Kg7 Qd7 Kf6 Qd2 Kg7 Qd7 Kf6 Qd8 Kg7 Qd7 Kg8 \n"
          ]
        },
        {
          "output_type": "execute_result",
          "data": {
            "text/plain": [
              "'e4 c5 Nf3 d6 d4 cxd4 Qxd4 Nc6 Bb5 Bd7 Bxc6 Bxc6 c4 Nf6 Nc3 g6 O-O Bg7 h3 O-O Qd3 Nd7 Be3 Nc5 Qc2 a5 Rad1 a4 Nd4 Qa5 Nxc6 bxc6 Bd4 Bxd4 Rxd4 Rfb8 Rfd1 Rb4 Qe2 Rab8 e5 dxe5 Qxe5 Qb6 Nxa4 Nxa4 Qxe7 Rxb2 Rd8 Kg7 Rxb8 Qxb8 Rd7 Kg8 Rd8 Kg7 Rd7 Kg8 Qf6 Qe8 Rd8 Rb8 Rxb8 Qxb8 Qxc6 Qa7 Qc8 Kg7 c5 h5 c6 h4 c7 Qb6 Qd7 Kf6 Qc8 Kg7 Qd7 Kf6 Qd2 Kg7 Qd7 Kf6 Qd8 Kg7 Qd7 Kf6 Qd2 Kg7 Qd7 Kf6 Qd2 Kg7 Qd7 Kf6 Qd8 Kg7 Qd7 Kg8'"
            ],
            "application/vnd.google.colaboratory.intrinsic+json": {
              "type": "string"
            }
          },
          "metadata": {},
          "execution_count": 82
        }
      ]
    },
    {
      "cell_type": "markdown",
      "source": [
        "Também podemos jogar contra o modelo:"
      ],
      "metadata": {
        "id": "4HU7GawzH8ru"
      }
    },
    {
      "cell_type": "code",
      "source": [
        "start = ''\n",
        "num_moves = 200\n",
        "k = 1\n",
        "num_iter = num_moves // k\n",
        "for idx in range(num_iter):\n",
        "  if idx % 2 == 0:\n",
        "    start += f' {input()}'\n",
        "  else:\n",
        "    new_moves = _generate_best_next(start, k=k, prob_mass=0.999)[1]\n",
        "    print(new_moves)\n",
        "    start += ' ' + new_moves\n",
        "# print(start)\n",
        "\n",
        "# print(generate_greedy(start, stochastic=True))"
      ],
      "metadata": {
        "id": "QgP8kpBLtov9"
      },
      "execution_count": null,
      "outputs": []
    },
    {
      "cell_type": "markdown",
      "source": [
        "## 4. Avaliação quantitativa usando Stockfish"
      ],
      "metadata": {
        "id": "hh6_S-cAM2Mz"
      }
    },
    {
      "cell_type": "code",
      "source": [
        "from matplotlib import pyplot as plt"
      ],
      "metadata": {
        "id": "B1zmBL9CWzWa"
      },
      "execution_count": 17,
      "outputs": []
    },
    {
      "cell_type": "markdown",
      "source": [
        "Abaixo definimos métodos para avaliar uma dada partida usando a *engine* Stockfish. Contrário ao que se pensava na segunda entrega do trabalho, é a Stockfish é open-source e pode ser instalada e usada gratuitamente. A Stockfish é uma das melhores engines de Xadrez em uso na atualidade.\n",
        "\n",
        "A avaliação de uma partida consiste da sequência dos escores de cada uma das suas posições, na ordem das jogadas. O escore de uma posição é medido em \"centi-peões\", o que significa que um valor de 100 equivale a uma vantagem média de um peão. Um escore positivo significa posição melhor para as peças brancas, enquanto que um escore negativo significa uma posição melhor para as peças pretas."
      ],
      "metadata": {
        "id": "IrhgH25ZiqON"
      }
    },
    {
      "cell_type": "code",
      "source": [
        "def process_score(info):\n",
        "  score_limit = 1000\n",
        "  score = info['score'].white().score()\n",
        "  if info['score'].white().mate() is not None:\n",
        "    if info['score'].white().mate() < 0:\n",
        "      score = -score_limit\n",
        "    else:\n",
        "      score = score_limit\n",
        "  score = max(min(score, score_limit), -score_limit)\n",
        "  return score\n",
        "\n",
        "def eval_game(game):\n",
        "  engine = chess.engine.SimpleEngine.popen_uci(stockfish_path)\n",
        "  board = chess.Board()\n",
        "  timeout = 0.1\n",
        "  scores = []\n",
        "  for move in game.split(' '):\n",
        "    if (len(move) < 2\n",
        "        or (move in game_end)\n",
        "        or not is_legal(board, move)\n",
        "      ):\n",
        "      continue\n",
        "    board.push_san(move)\n",
        "    info = engine.analyse(board, chess.engine.Limit(time=timeout))\n",
        "    scores.append(process_score(info))\n",
        "  return scores"
      ],
      "metadata": {
        "id": "Wn68ibz2NE4T"
      },
      "execution_count": 18,
      "outputs": []
    },
    {
      "cell_type": "markdown",
      "source": [
        "Podemos avaliar as posições de um jogo e plotar o gráfico da partida para fins de visualização:"
      ],
      "metadata": {
        "id": "4FPp73C0kfgh"
      }
    },
    {
      "cell_type": "code",
      "source": [
        "scores = eval_game(generate_game())"
      ],
      "metadata": {
        "id": "w4Mh-IdNWnDL",
        "colab": {
          "base_uri": "https://localhost:8080/"
        },
        "outputId": "43fc5380-ace9-46bc-a026-d8b2d472375e"
      },
      "execution_count": 76,
      "outputs": [
        {
          "output_type": "stream",
          "name": "stdout",
          "text": [
            "e4 c5 Nf3 d6 d4 cxd4 Nxd4 Nf6 Nc3 a6 Be3 e5 Nb3 Be6 f3 h5 Qd2 Nbd7 O-O-O Rc8 Kb1 Be7 Be2 b5 Nd5 Bxd5 exd5 Nb6 Bxb6 Qxb6 f4 O-O fxe5 dxe5 Rhf1 e4 Nd4 e3 Qd3 g6 Bf3 Rc4 Nc6 Qc5 Nxe7 Qxe7 d6 Qd7 Bd5 Nxd5 Qxd5 Rxc2 Ka1 Rfc8 h3 Kg7 a3 a5 Rd3 b4 axb4 axb4 Rb3 Rb8 Qe5 Kh7 Qd5 Rc5 Qe4 f5 Qd5 Kg7 Qd4 Kh7 Rxb4 Rxb4 Qxb4 Rb5 Qd4 Qc6 Rc1 Qxd6 Rd1 Qe5 Qxe5 Rxe5 b4 g5 b5 g4 b6 f4 b7 Kg7 hxg4 hxg4 Rc1 Rc5 Re1 Kf6 Rc1 \n"
          ]
        }
      ]
    },
    {
      "cell_type": "code",
      "source": [
        "plt.plot(scores)"
      ],
      "metadata": {
        "colab": {
          "base_uri": "https://localhost:8080/",
          "height": 282
        },
        "id": "dTbdp7vxWtQU",
        "outputId": "9fd715a1-bac6-47a5-ad40-974c781c2558"
      },
      "execution_count": 77,
      "outputs": [
        {
          "output_type": "execute_result",
          "data": {
            "text/plain": [
              "[<matplotlib.lines.Line2D at 0x7fc0f2d40090>]"
            ]
          },
          "metadata": {},
          "execution_count": 77
        },
        {
          "output_type": "display_data",
          "data": {
            "text/plain": [
              "<Figure size 432x288 with 1 Axes>"
            ],
            "image/png": "[encoded data removed]"
          },
          "metadata": {
            "needs_background": "light"
          }
        }
      ]
    },
    {
      "cell_type": "markdown",
      "source": [
        "### Geração das partidas para avaliação"
      ],
      "metadata": {
        "id": "X-4hIdgOkpuo"
      }
    },
    {
      "cell_type": "markdown",
      "source": [
        "Nossa geração de partidas possui três parâmetros principais:\n",
        "\n",
        "*   O tamanho do *lookahead* na busca por jogadas, sendo 1, 2 ou 3.\n",
        "*   O lance inicial (*start*) das peças brancas, sendo \"e4\", \"d4\", \"c4\" ou \"Nf3\".\n",
        "*   O número de repetições dados os parâmetros acima. Esse valor é igual a 10.\n",
        "\n",
        "As partidas são salvas em arquivos separados numa pasta no Google Drive."
      ],
      "metadata": {
        "id": "3jITQNijhglW"
      }
    },
    {
      "cell_type": "code",
      "source": [
        "# Generate games\n",
        "all_games = []\n",
        "for lookahead in [1, 2, 3]:\n",
        "  for idx in range(10):\n",
        "    for start in ['e4', 'd4', 'c4', 'Nf3']:\n",
        "      with open(f'{model_dir}/exps/generated games/lookahead_{lookahead}_run_{idx}_start_{start}.cpgn', 'w') as f:\n",
        "            game = generate_game(start=start, lookahead=lookahead, stochastic=True)\n",
        "            all_games.append(game)\n",
        "            f.write(f'{game}\\n\\n')"
      ],
      "metadata": {
        "id": "LcWwfuW-68GE"
      },
      "execution_count": null,
      "outputs": []
    },
    {
      "cell_type": "markdown",
      "source": [
        "### Geração das métricas"
      ],
      "metadata": {
        "id": "pN3jvqfG0z1d"
      }
    },
    {
      "cell_type": "markdown",
      "source": [
        "Uma vez que as partidas foram geradas, calculamos as seguintes métricas:\n",
        "\n",
        "*   TTB (time to blunder): número de lances até o primeiro *blunder*.\n",
        "*   NB (number of blunders): número de *blunders* cometidos na partida.\n",
        "*   Média dos escores na partida.\n",
        "*   Desvio-padrão dos escores na partida.\n",
        "\n",
        "Definimos um *blunder* é um lance que resulta numa posição pior para o jogador que a executou em pelo menos 250 centi-peões. Essa definição não é canônica no jodo de Xadrez, apenas escolhida com base na nossa intuição de quanto um lance \"ruim\" piora a posição."
      ],
      "metadata": {
        "id": "KsR4D2UHijF9"
      }
    },
    {
      "cell_type": "code",
      "source": [
        "# Compute metrics based on scores\n",
        "\n",
        "def get_ttb(blunders):\n",
        "  for idx in range(len(blunders)):\n",
        "    if blunders[idx] == 1:\n",
        "      return idx\n",
        "  return 300\n",
        "# \n",
        "blunder_threshold = -250\n",
        "\n",
        "from glob import glob\n",
        "\n",
        "def save_metrics(\n",
        "    pgn_fname,\n",
        "    output_fname,\n",
        "    upto=None\n",
        "):\n",
        "  all_games = []\n",
        "  for fname in glob(pgn_fname, recursive=True):\n",
        "    with open(fname, 'r') as f:\n",
        "      all_games.append(\n",
        "          (\n",
        "              fname.split('/')[-1],\n",
        "              # f.read().replace('\\n\\n', '')\n",
        "              f.readline().replace('\\n', '')\n",
        "          )\n",
        "      )\n",
        "\n",
        "  with open(output_fname, 'w') as f:\n",
        "    f.write('file, game, la, ttb, nb, score mean, score std\\n')\n",
        "    idx = 0\n",
        "    for fname, game in all_games:\n",
        "      if idx == 150:\n",
        "        break\n",
        "      idx += 1\n",
        "      if upto:\n",
        "        game = ' '.join(game.split(' ')[:upto])\n",
        "      scores = eval_game(game)\n",
        "      delta_scores = [scores[idx] - scores[idx - 1] for idx in range(1, len(scores))]\n",
        "      blunders = [\n",
        "                  int(delta < blunder_threshold)\n",
        "                  if idx % 2 == 1\n",
        "                  else int(delta > -blunder_threshold)\n",
        "                  for idx, delta in enumerate(delta_scores)\n",
        "      ]\n",
        "      ttb = get_ttb(blunders)\n",
        "      nb = sum(blunders)\n",
        "      mean_score = np.mean(scores)\n",
        "      std_score = np.std(scores)\n",
        "      if 'lookahead' in fname:\n",
        "        la = fname.find('lookahead') + 10\n",
        "        la = fname[la]\n",
        "      else:\n",
        "        la = ''\n",
        "      f.write(f'{fname}, {game}, {la}, {ttb}, {nb}, {mean_score}, {std_score}\\n')"
      ],
      "metadata": {
        "id": "mVdFUpVq7s5p"
      },
      "execution_count": 19,
      "outputs": []
    },
    {
      "cell_type": "code",
      "source": [
        "# Avaliar partidas sintéticas\n",
        "save_metrics(\n",
        "    f'{model_dir}/exps/generated games/**/*.cpgn',\n",
        "    f'{model_dir}/exps/score_metrics.csv'\n",
        ")"
      ],
      "metadata": {
        "id": "LRugKgoboIvg"
      },
      "execution_count": null,
      "outputs": []
    },
    {
      "cell_type": "code",
      "source": [
        "# Avaliar partidas humanas\n",
        "save_metrics(\n",
        "    '/content/drive/MyDrive/Unicamp/IA 376L - 2022.1/notebooks/cpgn/*.cpgn',\n",
        "    f'{model_dir}/exps/human_score_metrics.csv'\n",
        ")"
      ],
      "metadata": {
        "id": "B6VG5oh1pGus"
      },
      "execution_count": null,
      "outputs": []
    },
    {
      "cell_type": "code",
      "source": [
        "# Avaliar partidas sintéticas até o lance 60\n",
        "save_metrics(\n",
        "    f'{model_dir}/exps/generated games/**/*.cpgn',\n",
        "    f'{model_dir}/exps/score_metrics_up_to_60.csv',\n",
        "    upto=60\n",
        ")"
      ],
      "metadata": {
        "id": "12NVr_q93bJg"
      },
      "execution_count": null,
      "outputs": []
    },
    {
      "cell_type": "code",
      "source": [
        "# Avaliar partidas sintéticas geradas com lookahead = 3 até o lance 60\n",
        "save_metrics(\n",
        "    f'{model_dir}/exps/generated games/**/*lookahead_3*.cpgn',\n",
        "    f'{model_dir}/exps/score_metrics_lookahead_3_up_to_60.csv',\n",
        "    upto=60\n",
        ")"
      ],
      "metadata": {
        "id": "eYm_tXHySGnR"
      },
      "execution_count": 20,
      "outputs": []
    },
    {
      "cell_type": "markdown",
      "source": [
        "### Comparação entre partidas humanas e partidas sintéticas"
      ],
      "metadata": {
        "id": "L3VP08gN08n5"
      }
    },
    {
      "cell_type": "markdown",
      "source": [
        "Agora podemos comparar as partidas sintéticas com as humanas em termos das nossas métricas."
      ],
      "metadata": {
        "id": "fE_Q58CYm6zp"
      }
    },
    {
      "cell_type": "code",
      "source": [
        "import pandas as pd"
      ],
      "metadata": {
        "id": "TG8exmol_JVc"
      },
      "execution_count": 20,
      "outputs": []
    },
    {
      "cell_type": "code",
      "source": [
        "human_df = pd.read_csv(f'{model_dir}/exps/human_score_metrics.csv')\n",
        "human_df.columns = [col.strip() for col in human_df.columns]\n",
        "\n",
        "synthetic_df = pd.read_csv(f'{model_dir}/exps/score_metrics_up_to_60.csv')\n",
        "synthetic_df.columns = [col.strip() for col in synthetic_df]\n",
        "\n",
        "synthetic_l3_df = pd.read_csv(f'{model_dir}/exps/score_metrics_lookahead_3_up_to_60.csv')\n",
        "synthetic_l3_df.columns = [col.strip() for col in synthetic_df]"
      ],
      "metadata": {
        "id": "-EOZNiDk7G7y"
      },
      "execution_count": 63,
      "outputs": []
    },
    {
      "cell_type": "code",
      "source": [
        "def plot_dists(human_df, synthetic_df):\n",
        "  fig, axis = plt.subplots(2, 2, figsize=(12, 8))\n",
        "\n",
        "  axis[0, 0].set_title('Time to Blunder')\n",
        "  axis[0, 0].set_xlabel('Moves')\n",
        "  human_df['ttb'].hist(bins=range(0, 301, 6), alpha=0.5, density=True, ax=axis[0, 0])\n",
        "  synthetic_df['ttb'].hist(bins=range(0, 301, 6), alpha=0.5, density=True, ax=axis[0, 0])\n",
        "  axis[0, 0].legend(['Human', 'Model'])\n",
        "\n",
        "  axis[0, 1].set_title('Number of Blunders')\n",
        "  axis[0, 1].set_xlabel('Blunders')\n",
        "  human_df['nb'].hist(bins=range(0, 30), alpha=0.5, density=True, ax=axis[0, 1])\n",
        "  synthetic_df['nb'].hist(bins=range(0, 30), alpha=0.5, density=True, ax=axis[0, 1])\n",
        "  axis[0, 1].legend(['Human', 'Model'])\n",
        "\n",
        "  axis[1, 0].set_title('Médias dos Escores')\n",
        "  axis[1, 0].set_xlabel('Score μ')\n",
        "  human_df['score mean'].hist(bins=range(-600, 600, 12), alpha=0.5, density=True, ax=axis[1, 0])\n",
        "  synthetic_df['score mean'].hist(bins=range(-600, 600, 12), alpha=0.5, density=True, ax=axis[1, 0])\n",
        "  axis[1, 0].legend(['Human', 'Model'])\n",
        "\n",
        "  axis[1, 1].set_title('Desvios-padrão dos Escores')\n",
        "  axis[1, 1].set_xlabel('Score σ')\n",
        "  human_df['score std'].hist(bins=range(0, 600, 6), alpha=0.5, density=True, ax=axis[1, 1])\n",
        "  synthetic_df['score std'].hist(bins=range(0, 600, 6), alpha=0.5, density=True, ax=axis[1, 1])\n",
        "  axis[1, 1].legend(['Human', 'Model'])\n",
        "\n",
        "  fig.tight_layout()"
      ],
      "metadata": {
        "id": "HxS-TtsR7S9w"
      },
      "execution_count": 61,
      "outputs": []
    },
    {
      "cell_type": "code",
      "source": [
        "plot_dists(human_df, synthetic_df)"
      ],
      "metadata": {
        "id": "wtLVyx1J9rgf",
        "colab": {
          "base_uri": "https://localhost:8080/",
          "height": 585
        },
        "outputId": "3e0bbd02-5a6b-4d1e-c72a-4a44b5bf0f36"
      },
      "execution_count": 62,
      "outputs": [
        {
          "output_type": "display_data",
          "data": {
            "text/plain": [
              "<Figure size 864x576 with 4 Axes>"
            ],
            "image/png": "[encoded data removed]"
          },
          "metadata": {
            "needs_background": "light"
          }
        }
      ]
    },
    {
      "cell_type": "code",
      "source": [
        "plot_dists(human_df, synthetic_l3_df)"
      ],
      "metadata": {
        "colab": {
          "base_uri": "https://localhost:8080/",
          "height": 585
        },
        "id": "_QFoYtSV1YtN",
        "outputId": "4ab34422-c76a-4d60-922e-788342b95179"
      },
      "execution_count": 64,
      "outputs": [
        {
          "output_type": "display_data",
          "data": {
            "text/plain": [
              "<Figure size 864x576 with 4 Axes>"
            ],
            "image/png": "[encoded data removed]"
          },
          "metadata": {
            "needs_background": "light"
          }
        }
      ]
    },
    {
      "cell_type": "markdown",
      "source": [
        "Ordenando as partidas por TTB ou NB:"
      ],
      "metadata": {
        "id": "Z0pBIS7u-beH"
      }
    },
    {
      "cell_type": "code",
      "source": [
        "synthetic_df.sort_values('ttb', ascending=False)"
      ],
      "metadata": {
        "colab": {
          "base_uri": "https://localhost:8080/",
          "height": 424
        },
        "id": "-PYt31WS1m-J",
        "outputId": "83fd09ba-c7cf-401e-8b1a-879a545fbbe2"
      },
      "execution_count": 66,
      "outputs": [
        {
          "output_type": "execute_result",
          "data": {
            "text/plain": [
              "                                 file  \\\n",
              "63    lookahead_2_run_4_start_c4.cpgn   \n",
              "73   lookahead_2_run_7_start_Nf3.cpgn   \n",
              "106  lookahead_3_run_8_start_Nf3.cpgn   \n",
              "43   lookahead_1_run_7_start_Nf3.cpgn   \n",
              "105   lookahead_3_run_8_start_c4.cpgn   \n",
              "..                                ...   \n",
              "119            lookahead_1_run_7.cpgn   \n",
              "15            lookahead_2_run_15.cpgn   \n",
              "49   lookahead_1_run_9_start_Nf3.cpgn   \n",
              "9             lookahead_1_run_19.cpgn   \n",
              "121            lookahead_1_run_9.cpgn   \n",
              "\n",
              "                                                  game  la  ttb  nb  \\\n",
              "63    c4 Nf6 Nc3 g6 g3 Bg7 Bg2 O-O e4 d6 Nge2 c5 O-...   2  300   0   \n",
              "73    Nf3 Nf6 c4 g6 g3 Bg7 Bg2 O-O O-O d6 d4 Nbd7 N...   2  300   0   \n",
              "106   Nf3 d5 d4 Nf6 c4 e6 Nc3 Be7 Bg5 h6 Bh4 O-O e3...   3  300   0   \n",
              "43    Nf3 d5 g3 Nf6 Bg2 c6 O-O Bf5 d3 e6 c4 Be7 cxd...   1  300   0   \n",
              "105   c4 Nf6 Nc3 g6 g3 Bg7 Bg2 O-O e4 d6 Nge2 c5 O-...   3  300   0   \n",
              "..                                                 ...  ..  ...  ..   \n",
              "119   e4 c5 Nf3 d6 d4 Nf6 dxc5 Nxe4 cxd6 Nxd6 Nc3 g...   1   19  23   \n",
              "15    e4 e6 d4 d5 Nc3 Bb4 e5 c5 a3 Ba5 b4 cxd4 Nb5 ...   2   17  13   \n",
              "49    Nf3 d5 g3 Nf6 Bg2 e6 O-O Be7 c4 O-O d4 dxc4 Q...   1   15  15   \n",
              "9     e4 c5 Nc3 Nc6 Bb5 Nd4 Bc4 e6 Nge2 a6 Nxd4 cxd...   1   14   5   \n",
              "121   e4 c5 Nc3 Nc6 Bb5 Nd4 Nf3 a6 Ba4 b5 Nxd4 cxd4...   1   12  24   \n",
              "\n",
              "     score mean   score std  \n",
              "63     1.933333   43.793404  \n",
              "73   -14.066667   45.566386  \n",
              "106   19.033333   37.167175  \n",
              "43   -22.116667   53.014178  \n",
              "105   28.883333   32.954055  \n",
              "..          ...         ...  \n",
              "119 -207.533333  446.520118  \n",
              "15   181.183333  469.487681  \n",
              "49    51.800000  263.774449  \n",
              "9   -463.916667  493.407853  \n",
              "121 -279.133333  540.222438  \n",
              "\n",
              "[122 rows x 7 columns]"
            ],
            "text/html": [
              "\n",
              "  <div id=\"df-290e6c46-cd60-4fdd-979c-e8da63e78dc3\">\n",
              "    <div class=\"colab-df-container\">\n",
              "      <div>\n",
              "<style scoped>\n",
              "    .dataframe tbody tr th:only-of-type {\n",
              "        vertical-align: middle;\n",
              "    }\n",
              "\n",
              "    .dataframe tbody tr th {\n",
              "        vertical-align: top;\n",
              "    }\n",
              "\n",
              "    .dataframe thead th {\n",
              "        text-align: right;\n",
              "    }\n",
              "</style>\n",
              "<table border=\"1\" class=\"dataframe\">\n",
              "  <thead>\n",
              "    <tr style=\"text-align: right;\">\n",
              "      <th></th>\n",
              "      <th>file</th>\n",
              "      <th>game</th>\n",
              "      <th>la</th>\n",
              "      <th>ttb</th>\n",
              "      <th>nb</th>\n",
              "      <th>score mean</th>\n",
              "      <th>score std</th>\n",
              "    </tr>\n",
              "  </thead>\n",
              "  <tbody>\n",
              "    <tr>\n",
              "      <th>63</th>\n",
              "      <td>lookahead_2_run_4_start_c4.cpgn</td>\n",
              "      <td>c4 Nf6 Nc3 g6 g3 Bg7 Bg2 O-O e4 d6 Nge2 c5 O-...</td>\n",
              "      <td>2</td>\n",
              "      <td>300</td>\n",
              "      <td>0</td>\n",
              "      <td>1.933333</td>\n",
              "      <td>43.793404</td>\n",
              "    </tr>\n",
              "    <tr>\n",
              "      <th>73</th>\n",
              "      <td>lookahead_2_run_7_start_Nf3.cpgn</td>\n",
              "      <td>Nf3 Nf6 c4 g6 g3 Bg7 Bg2 O-O O-O d6 d4 Nbd7 N...</td>\n",
              "      <td>2</td>\n",
              "      <td>300</td>\n",
              "      <td>0</td>\n",
              "      <td>-14.066667</td>\n",
              "      <td>45.566386</td>\n",
              "    </tr>\n",
              "    <tr>\n",
              "      <th>106</th>\n",
              "      <td>lookahead_3_run_8_start_Nf3.cpgn</td>\n",
              "      <td>Nf3 d5 d4 Nf6 c4 e6 Nc3 Be7 Bg5 h6 Bh4 O-O e3...</td>\n",
              "      <td>3</td>\n",
              "      <td>300</td>\n",
              "      <td>0</td>\n",
              "      <td>19.033333</td>\n",
              "      <td>37.167175</td>\n",
              "    </tr>\n",
              "    <tr>\n",
              "      <th>43</th>\n",
              "      <td>lookahead_1_run_7_start_Nf3.cpgn</td>\n",
              "      <td>Nf3 d5 g3 Nf6 Bg2 c6 O-O Bf5 d3 e6 c4 Be7 cxd...</td>\n",
              "      <td>1</td>\n",
              "      <td>300</td>\n",
              "      <td>0</td>\n",
              "      <td>-22.116667</td>\n",
              "      <td>53.014178</td>\n",
              "    </tr>\n",
              "    <tr>\n",
              "      <th>105</th>\n",
              "      <td>lookahead_3_run_8_start_c4.cpgn</td>\n",
              "      <td>c4 Nf6 Nc3 g6 g3 Bg7 Bg2 O-O e4 d6 Nge2 c5 O-...</td>\n",
              "      <td>3</td>\n",
              "      <td>300</td>\n",
              "      <td>0</td>\n",
              "      <td>28.883333</td>\n",
              "      <td>32.954055</td>\n",
              "    </tr>\n",
              "    <tr>\n",
              "      <th>...</th>\n",
              "      <td>...</td>\n",
              "      <td>...</td>\n",
              "      <td>...</td>\n",
              "      <td>...</td>\n",
              "      <td>...</td>\n",
              "      <td>...</td>\n",
              "      <td>...</td>\n",
              "    </tr>\n",
              "    <tr>\n",
              "      <th>119</th>\n",
              "      <td>lookahead_1_run_7.cpgn</td>\n",
              "      <td>e4 c5 Nf3 d6 d4 Nf6 dxc5 Nxe4 cxd6 Nxd6 Nc3 g...</td>\n",
              "      <td>1</td>\n",
              "      <td>19</td>\n",
              "      <td>23</td>\n",
              "      <td>-207.533333</td>\n",
              "      <td>446.520118</td>\n",
              "    </tr>\n",
              "    <tr>\n",
              "      <th>15</th>\n",
              "      <td>lookahead_2_run_15.cpgn</td>\n",
              "      <td>e4 e6 d4 d5 Nc3 Bb4 e5 c5 a3 Ba5 b4 cxd4 Nb5 ...</td>\n",
              "      <td>2</td>\n",
              "      <td>17</td>\n",
              "      <td>13</td>\n",
              "      <td>181.183333</td>\n",
              "      <td>469.487681</td>\n",
              "    </tr>\n",
              "    <tr>\n",
              "      <th>49</th>\n",
              "      <td>lookahead_1_run_9_start_Nf3.cpgn</td>\n",
              "      <td>Nf3 d5 g3 Nf6 Bg2 e6 O-O Be7 c4 O-O d4 dxc4 Q...</td>\n",
              "      <td>1</td>\n",
              "      <td>15</td>\n",
              "      <td>15</td>\n",
              "      <td>51.800000</td>\n",
              "      <td>263.774449</td>\n",
              "    </tr>\n",
              "    <tr>\n",
              "      <th>9</th>\n",
              "      <td>lookahead_1_run_19.cpgn</td>\n",
              "      <td>e4 c5 Nc3 Nc6 Bb5 Nd4 Bc4 e6 Nge2 a6 Nxd4 cxd...</td>\n",
              "      <td>1</td>\n",
              "      <td>14</td>\n",
              "      <td>5</td>\n",
              "      <td>-463.916667</td>\n",
              "      <td>493.407853</td>\n",
              "    </tr>\n",
              "    <tr>\n",
              "      <th>121</th>\n",
              "      <td>lookahead_1_run_9.cpgn</td>\n",
              "      <td>e4 c5 Nc3 Nc6 Bb5 Nd4 Nf3 a6 Ba4 b5 Nxd4 cxd4...</td>\n",
              "      <td>1</td>\n",
              "      <td>12</td>\n",
              "      <td>24</td>\n",
              "      <td>-279.133333</td>\n",
              "      <td>540.222438</td>\n",
              "    </tr>\n",
              "  </tbody>\n",
              "</table>\n",
              "<p>122 rows × 7 columns</p>\n",
              "</div>\n",
              "      <button class=\"colab-df-convert\" onclick=\"convertToInteractive('df-290e6c46-cd60-4fdd-979c-e8da63e78dc3')\"\n",
              "              title=\"Convert this dataframe to an interactive table.\"\n",
              "              style=\"display:none;\">\n",
              "        \n",
              "  <svg xmlns=\"http://www.w3.org/2000/svg\" height=\"24px\"viewBox=\"0 0 24 24\"\n",
              "       width=\"24px\">\n",
              "    <path d=\"M0 0h24v24H0V0z\" fill=\"none\"/>\n",
              "    <path d=\"M18.56 5.44l.94 2.06.94-2.06 2.06-.94-2.06-.94-.94-2.06-.94 2.06-2.06.94zm-11 1L8.5 8.5l.94-2.06 2.06-.94-2.06-.94L8.5 2.5l-.94 2.06-2.06.94zm10 10l.94 2.06.94-2.06 2.06-.94-2.06-.94-.94-2.06-.94 2.06-2.06.94z\"/><path d=\"M17.41 7.96l-1.37-1.37c-.4-.4-.92-.59-1.43-.59-.52 0-1.04.2-1.43.59L10.3 9.45l-7.72 7.72c-.78.78-.78 2.05 0 2.83L4 21.41c.39.39.9.59 1.41.59.51 0 1.02-.2 1.41-.59l7.78-7.78 2.81-2.81c.8-.78.8-2.07 0-2.86zM5.41 20L4 18.59l7.72-7.72 1.47 1.35L5.41 20z\"/>\n",
              "  </svg>\n",
              "      </button>\n",
              "      \n",
              "  <style>\n",
              "    .colab-df-container {\n",
              "      display:flex;\n",
              "      flex-wrap:wrap;\n",
              "      gap: 12px;\n",
              "    }\n",
              "\n",
              "    .colab-df-convert {\n",
              "      background-color: #E8F0FE;\n",
              "      border: none;\n",
              "      border-radius: 50%;\n",
              "      cursor: pointer;\n",
              "      display: none;\n",
              "      fill: #1967D2;\n",
              "      height: 32px;\n",
              "      padding: 0 0 0 0;\n",
              "      width: 32px;\n",
              "    }\n",
              "\n",
              "    .colab-df-convert:hover {\n",
              "      background-color: #E2EBFA;\n",
              "      box-shadow: 0px 1px 2px rgba(60, 64, 67, 0.3), 0px 1px 3px 1px rgba(60, 64, 67, 0.15);\n",
              "      fill: #174EA6;\n",
              "    }\n",
              "\n",
              "    [theme=dark] .colab-df-convert {\n",
              "      background-color: #3B4455;\n",
              "      fill: #D2E3FC;\n",
              "    }\n",
              "\n",
              "    [theme=dark] .colab-df-convert:hover {\n",
              "      background-color: #434B5C;\n",
              "      box-shadow: 0px 1px 3px 1px rgba(0, 0, 0, 0.15);\n",
              "      filter: drop-shadow(0px 1px 2px rgba(0, 0, 0, 0.3));\n",
              "      fill: #FFFFFF;\n",
              "    }\n",
              "  </style>\n",
              "\n",
              "      <script>\n",
              "        const buttonEl =\n",
              "          document.querySelector('#df-290e6c46-cd60-4fdd-979c-e8da63e78dc3 button.colab-df-convert');\n",
              "        buttonEl.style.display =\n",
              "          google.colab.kernel.accessAllowed ? 'block' : 'none';\n",
              "\n",
              "        async function convertToInteractive(key) {\n",
              "          const element = document.querySelector('#df-290e6c46-cd60-4fdd-979c-e8da63e78dc3');\n",
              "          const dataTable =\n",
              "            await google.colab.kernel.invokeFunction('convertToInteractive',\n",
              "                                                     [key], {});\n",
              "          if (!dataTable) return;\n",
              "\n",
              "          const docLinkHtml = 'Like what you see? Visit the ' +\n",
              "            '<a target=\"_blank\" href=https://colab.research.google.com/notebooks/data_table.ipynb>data table notebook</a>'\n",
              "            + ' to learn more about interactive tables.';\n",
              "          element.innerHTML = '';\n",
              "          dataTable['output_type'] = 'display_data';\n",
              "          await google.colab.output.renderOutput(dataTable, element);\n",
              "          const docLink = document.createElement('div');\n",
              "          docLink.innerHTML = docLinkHtml;\n",
              "          element.appendChild(docLink);\n",
              "        }\n",
              "      </script>\n",
              "    </div>\n",
              "  </div>\n",
              "  "
            ]
          },
          "metadata": {},
          "execution_count": 66
        }
      ]
    },
    {
      "cell_type": "code",
      "source": [
        "synthetic_df.sort_values('ttb', ascending=False).iloc[0]['game']"
      ],
      "metadata": {
        "colab": {
          "base_uri": "https://localhost:8080/",
          "height": 53
        },
        "id": "PZd5AaiT-tMl",
        "outputId": "9af617a7-d986-4797-83d9-63cd8b77fe8c"
      },
      "execution_count": 75,
      "outputs": [
        {
          "output_type": "execute_result",
          "data": {
            "text/plain": [
              "' c4 Nf6 Nc3 g6 g3 Bg7 Bg2 O-O e4 d6 Nge2 c5 O-O Nc6 d3 a6 h3 Rb8 a4 Bd7 Be3 Ne8 d4 cxd4 Bxd4 Bxd4 Nxd4 Nxd4 Qxd4 b5 axb5 axb5 cxb5 Bxb5 Rfd1 Qb6 Qxb6 Rxb6 Bf1 Bxf1 Rxf1 Nc7 Ra4 Rfb8 Rb1 Rb4 Rxb4 Rxb4 Kf1 Kf8 Ke2 Ke8 Kd3 Kd7 Kc2 Kc6 Kd3 d5 exd5 Nxd5'"
            ],
            "application/vnd.google.colaboratory.intrinsic+json": {
              "type": "string"
            }
          },
          "metadata": {},
          "execution_count": 75
        }
      ]
    },
    {
      "cell_type": "code",
      "source": [
        ""
      ],
      "metadata": {
        "id": "oyOh4SEO_BCZ"
      },
      "execution_count": null,
      "outputs": []
    }
  ],
  "metadata": {
    "accelerator": "GPU",
    "colab": {
      "collapsed_sections": [],
      "machine_shape": "hm",
      "name": "PGN Transformer.ipynb",
      "provenance": []
    },
    "kernelspec": {
      "display_name": "Python 3",
      "name": "python3"
    }
  },
  "nbformat": 4,
  "nbformat_minor": 0
}