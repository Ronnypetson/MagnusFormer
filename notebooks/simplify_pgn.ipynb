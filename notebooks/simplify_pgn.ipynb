{
 "cells": [
  {
   "cell_type": "code",
   "execution_count": 65,
   "id": "f27b09bf-9849-47dc-b89d-97838e053ca5",
   "metadata": {},
   "outputs": [],
   "source": [
    "import re\n",
    "\n",
    "pgn_fn = 'twic1431g/twic1431.pgn'\n",
    "game_end = ['1-0', '0-1', '1/2-1/2']\n",
    "\n",
    "with open('complete_vocab.txt', 'r') as f:\n",
    "    vocab = f.read().split('\\n')\n",
    "\n",
    "vocab = set(vocab)\n",
    "suffixes = ['+', '#',\n",
    "            '=N', '=B', '=R', '=Q',\n",
    "            '=N+', '=B+', '=R+', '=Q+',\n",
    "            '=N#', '=B#', '=R#', '=Q#']\n",
    "\n",
    "simplified = []\n",
    "with open(pgn_fn, 'r') as f:\n",
    "    tokens = re.split('\\.| |\\n', f.read())\n",
    "    for token in tokens:\n",
    "        if token in vocab:\n",
    "            simplified.append(token)\n",
    "            if token in game_end:\n",
    "                simplified.append('\\n')\n",
    "        else:\n",
    "            for suffix in suffixes:\n",
    "                if suffix in token and token[:-len(suffix)] in vocab:\n",
    "                    simplified.append(token)\n",
    "                    continue"
   ]
  },
  {
   "cell_type": "code",
   "execution_count": 66,
   "id": "b81bdf13-7162-4594-ba82-b1681605c9df",
   "metadata": {},
   "outputs": [],
   "source": [
    "simplified_fn = f'{pgn_fn}_simplified.spgn'\n",
    "with open(simplified_fn, 'w') as f:\n",
    "    f.write(' '.join(simplified))"
   ]
  },
  {
   "cell_type": "code",
   "execution_count": null,
   "id": "49b1abdf-6b0b-4faf-a664-f5c53dbd3bee",
   "metadata": {},
   "outputs": [],
   "source": [
    "with open(pgn_fn, 'r') as f:\n",
    "    tokens = f.read()\n",
    "tokens"
   ]
  },
  {
   "cell_type": "code",
   "execution_count": null,
   "id": "215f6a16-fa0a-4727-b26c-38cc9e413a92",
   "metadata": {},
   "outputs": [],
   "source": []
  }
 ],
 "metadata": {
  "kernelspec": {
   "display_name": "Python 3",
   "language": "python",
   "name": "python3"
  },
  "language_info": {
   "codemirror_mode": {
    "name": "ipython",
    "version": 3
   },
   "file_extension": ".py",
   "mimetype": "text/x-python",
   "name": "python",
   "nbconvert_exporter": "python",
   "pygments_lexer": "ipython3",
   "version": "3.8.8"
  }
 },
 "nbformat": 4,
 "nbformat_minor": 5
}
